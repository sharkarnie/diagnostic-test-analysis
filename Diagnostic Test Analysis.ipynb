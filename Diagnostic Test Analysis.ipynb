{
 "cells": [
  {
   "cell_type": "code",
   "execution_count": 5,
   "metadata": {},
   "outputs": [],
   "source": [
    "import pandas as pd\n",
    "import numpy as np\n",
    "import matplotlib.pyplot as plt "
   ]
  },
  {
   "cell_type": "code",
   "execution_count": 81,
   "metadata": {},
   "outputs": [],
   "source": [
    "# import CSV file \n",
    "crosstabs = pd.read_csv('mydata.csv')"
   ]
  },
  {
   "cell_type": "code",
   "execution_count": 82,
   "metadata": {},
   "outputs": [],
   "source": [
    "# insert the columns for your test and reference: \n",
    "test = 'FluH1N1CDC'\n",
    "reference = 'FluApdmFastTrack'\n",
    "\n",
    "# convert columns to numpy arrays:\n",
    "test_array = np.array(crosstabs[test])\n",
    "reference_array = np.array(crosstabs[reference])"
   ]
  },
  {
   "cell_type": "code",
   "execution_count": 83,
   "metadata": {},
   "outputs": [],
   "source": [
    "# create confusion matrix:\n",
    "cf = pd.crosstab(test_array,reference_array, margins=True)"
   ]
  },
  {
   "cell_type": "code",
   "execution_count": 84,
   "metadata": {},
   "outputs": [
    {
     "data": {
      "text/html": [
       "<div>\n",
       "<style scoped>\n",
       "    .dataframe tbody tr th:only-of-type {\n",
       "        vertical-align: middle;\n",
       "    }\n",
       "\n",
       "    .dataframe tbody tr th {\n",
       "        vertical-align: top;\n",
       "    }\n",
       "\n",
       "    .dataframe thead th {\n",
       "        text-align: right;\n",
       "    }\n",
       "</style>\n",
       "<table border=\"1\" class=\"dataframe\">\n",
       "  <thead>\n",
       "    <tr style=\"text-align: right;\">\n",
       "      <th>col_0</th>\n",
       "      <th>0.0</th>\n",
       "      <th>1.0</th>\n",
       "      <th>All</th>\n",
       "    </tr>\n",
       "    <tr>\n",
       "      <th>row_0</th>\n",
       "      <th></th>\n",
       "      <th></th>\n",
       "      <th></th>\n",
       "    </tr>\n",
       "  </thead>\n",
       "  <tbody>\n",
       "    <tr>\n",
       "      <th>0.0</th>\n",
       "      <td>595</td>\n",
       "      <td>12</td>\n",
       "      <td>607</td>\n",
       "    </tr>\n",
       "    <tr>\n",
       "      <th>1.0</th>\n",
       "      <td>13</td>\n",
       "      <td>428</td>\n",
       "      <td>441</td>\n",
       "    </tr>\n",
       "    <tr>\n",
       "      <th>All</th>\n",
       "      <td>608</td>\n",
       "      <td>440</td>\n",
       "      <td>1048</td>\n",
       "    </tr>\n",
       "  </tbody>\n",
       "</table>\n",
       "</div>"
      ],
      "text/plain": [
       "col_0  0.0  1.0   All\n",
       "row_0                \n",
       "0.0    595   12   607\n",
       "1.0     13  428   441\n",
       "All    608  440  1048"
      ]
     },
     "execution_count": 84,
     "metadata": {},
     "output_type": "execute_result"
    }
   ],
   "source": [
    "cf"
   ]
  },
  {
   "cell_type": "code",
   "execution_count": 92,
   "metadata": {},
   "outputs": [
    {
     "name": "stdout",
     "output_type": "stream",
     "text": [
      "Sensitivity: 0.98 (95% CI: (0.9691561931685452, 0.9913050918396921))\n",
      "\n",
      "Specificity: 0.97 (95% CI: (0.9547348277075979, 0.986308256192629))\n",
      "\n",
      "Positive Predictive Value: 0.98 (95% CI: (0.967120194498662, 0.990116647606601))\n",
      "\n",
      "Negative Predictive Value: 0.97 (95% CI: (0.9575081519292021, 0.9879463935253434))\n",
      "\n",
      "Accuracy/Confidence: 0.98 (95 % CI: (0.966906101957245, 0.9853839743786329)\n",
      "\n",
      "Cohen's Kappa: 0.95104706955053\n"
     ]
    }
   ],
   "source": [
    "def table_labels(cf):\n",
    "    a = cf[0][0]\n",
    "    b = cf[0][1]\n",
    "    c = cf[1][0]\n",
    "    d = cf[1][1]\n",
    "    return a, b, c, d\n",
    "\n",
    "# Sensitivity \n",
    "sen = (a/(a+c))\n",
    "sen_se = np.sqrt((sen*(1-sen))/(a+c))\n",
    "sen_ci = (sen-(1.96*sen_se),sen+(1.96*sen_se))\n",
    "\n",
    "# Specificity\n",
    "spec = (d/(b+d))\n",
    "spec_se = np.sqrt((spec*(1-spec))/(b+d))\n",
    "spec_ci = (spec-(1.96*spec_se),spec+(1.96*spec_se))\n",
    "\n",
    "# Positive Predictive Value\n",
    "PPV = (a/(a+b))\n",
    "PPV_se = np.sqrt((PPV*(1-PPV))/(a+b))\n",
    "PPV_ci = (PPV-(1.96*PPV_se),PPV+(1.96*PPV_se))\n",
    "\n",
    "# Negative Predictive Value\n",
    "NPV = (d/(c+d))\n",
    "NPV_se = np.sqrt((NPV*(1-NPV))/(c+d))\n",
    "NPV_ci = (NPV-(1.96*NPV_se),NPV+(1.96*NPV_se))\n",
    "\n",
    "# Concordance Correlation Coefficient\n",
    "conc = ((a+d)/(a+b+c+d))\n",
    "conc_se = np.sqrt((conc*(1-conc))/(a+b+c+d)) \n",
    "conc_ci = (conc-(1.96*conc_se),conc+(1.96*conc_se))\n",
    "\n",
    "# Kappa Statistic \n",
    "n = a + b + c + d\n",
    "pr_a = ((a+d)/n)\n",
    "pr_e = (((a+b)/n) * ((a+c)/n)) + (((c+d)/n) * ((b+d)/n))\n",
    "k = (pr_a - pr_e)/(1 - pr_e) \n",
    "\n",
    "print('Sensitivity: {} (95% CI: {})\\n'.format(round(sen, 2), sen_ci))\n",
    "print('Specificity: {} (95% CI: {})\\n'.format(round(spec, 2), spec_ci))\n",
    "print('Positive Predictive Value: {} (95% CI: {})\\n'.format(round(PPV, 2), PPV_ci))\n",
    "print('Negative Predictive Value: {} (95% CI: {})\\n'.format(round(NPV, 2), NPV_ci)) \n",
    "print('Accuracy/Confidence: {} (95 % CI: {}\\n'.format(round(ACC, 2), ACC_ci))\n",
    "print(\"Cohen's Kappa:\", k)"
   ]
  },
  {
   "cell_type": "code",
   "execution_count": null,
   "metadata": {},
   "outputs": [],
   "source": []
  }
 ],
 "metadata": {
  "kernelspec": {
   "display_name": "Python 3",
   "language": "python",
   "name": "python3"
  },
  "language_info": {
   "codemirror_mode": {
    "name": "ipython",
    "version": 3
   },
   "file_extension": ".py",
   "mimetype": "text/x-python",
   "name": "python",
   "nbconvert_exporter": "python",
   "pygments_lexer": "ipython3",
   "version": "3.6.5"
  }
 },
 "nbformat": 4,
 "nbformat_minor": 2
}
